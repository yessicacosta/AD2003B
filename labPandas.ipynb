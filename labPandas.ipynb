{
  "cells": [
    {
      "cell_type": "markdown",
      "metadata": {
        "id": "dggpjPWpZQkR"
      },
      "source": [
        "#PRACTICA\n",
        "### AD2004B.403.M2.EF2023\n",
        "### Laboratorio de PANDAS\n",
        "\n",
        "\n",
        "\n",
        "> En este Lab practicaras el uso de **Pandas** para realizar análisis de datos. Partiremos de la carga de datos desde un archivo de Excel para despues manipular visualizar esto datos con Python. \n",
        "EL archivo de Excel debe de estar en Github.\n",
        "\n",
        "\n",
        "\n",
        "##### Nombre del archivo: \"labPandas\"\n",
        "#### Utilizaremos el archivo \"Superstore.xls\"\n"
      ]
    },
    {
      "cell_type": "markdown",
      "metadata": {
        "id": "YKRwrzneZQkU"
      },
      "source": [
        "## PANDAS\n",
        "https://pandas.pydata.org/pandas-docs/stable/user_guide/io.html\n",
        "\n",
        "https://pandas.pydata.org/pandas-docs/stable/reference/api/pandas.DataFrame.html\n",
        "\n",
        "\n",
        "**Importar** un archivo de datos con **pandas**\n",
        ">Como primer paso se debe importar la libreria de Pandas, lo cual nos da acceso a las funciones necesarias para manipulación de los datos.\n"
      ]
    },
    {
      "cell_type": "code",
      "execution_count": null,
      "metadata": {
        "id": "Z7ldwqxXZQkV"
      },
      "outputs": [],
      "source": [
        "# Importamos la Libreria pandas con el alias \"pd\"\n"
      ]
    },
    {
      "cell_type": "markdown",
      "metadata": {
        "id": "sJqVOUwfZQkW"
      },
      "source": [
        "## Importar archivo de Excel\n",
        "> Es importante que tengan correcta la ruta donde esta el archivo, en este caso el archivo debe estar en el repositorio correspondiente a la clase de GitHub."
      ]
    },
    {
      "cell_type": "code",
      "execution_count": null,
      "metadata": {
        "id": "En0dbgWcZQkW"
      },
      "outputs": [],
      "source": [
        "#Importar archivo en un dataframe\n",
        "\n"
      ]
    },
    {
      "cell_type": "markdown",
      "source": [
        "# Conoce los Datos.\n",
        "Identificar y documentar de manera general que contiene el archivo de datos.\n",
        "Una buena idea es crear un glosario de términos donde se describa cada uno de los datos manejados.\n"
      ],
      "metadata": {
        "id": "gV2jqWgLaWNb"
      }
    },
    {
      "cell_type": "code",
      "source": [
        "#Ejecuta las intrucciones necesarias para conocer los datos. \n",
        "# METADATOS:Tipos de datos, tamaño del dataframe, nombres de columnas, etc.\n",
        "# DATOS: Observa los datos de manera inicial, oberva los primeros n y los ultimos n, donde pruebes con varios valores de n\n",
        "# Cada instrucción colocala en un renglón para que agregues la documentación necesaria de los que estas observando.\n"
      ],
      "metadata": {
        "id": "-z1O1dp6aP8J"
      },
      "execution_count": null,
      "outputs": []
    },
    {
      "cell_type": "markdown",
      "source": [
        "# **FILTROS**"
      ],
      "metadata": {
        "id": "Yx42phJ0papi"
      }
    },
    {
      "cell_type": "markdown",
      "metadata": {
        "id": "kzvZISOYZQkY"
      },
      "source": [
        "### Mostrar columas especificas de un dataframe.\n",
        "Crea un dataframe \"dfCLientes\" donde almacenes el ID del CLiente y su nombre.\n",
        "Muestra el dataframe.\n",
        "\n",
        "dataframe[[\"col1\", \"col2\"]]"
      ]
    },
    {
      "cell_type": "code",
      "execution_count": null,
      "metadata": {
        "id": "o9G05RS-ZQkY"
      },
      "outputs": [],
      "source": []
    },
    {
      "cell_type": "markdown",
      "source": [
        "**CLIENTES**.\n",
        "¿Cuantos clientes se tienen?\n",
        "Crea un dataframe con los IDs y nombre de clientes sin que estos se repitan.\n",
        "Muestra la información."
      ],
      "metadata": {
        "id": "3_W5p6mGqUbx"
      }
    },
    {
      "cell_type": "code",
      "source": [],
      "metadata": {
        "id": "hqHoCAgIq23L"
      },
      "execution_count": null,
      "outputs": []
    },
    {
      "cell_type": "markdown",
      "source": [
        "**Analiza los datos unicos.**\n",
        "\n",
        "Obten la lista de ciudades,segmentos, regiones y categorias. De cada uno conoce la cantidad y visualiza las listas.\n",
        "Crea un dataframe nuevo por cada consulta, el unique genera un arreglo numpy, conviertelo a dataframe, vizualizalo.\n"
      ],
      "metadata": {
        "id": "Ae1a2n1zzsDB"
      }
    },
    {
      "cell_type": "code",
      "source": [],
      "metadata": {
        "id": "KTjE3vuK0Huy"
      },
      "execution_count": null,
      "outputs": []
    },
    {
      "cell_type": "markdown",
      "metadata": {
        "id": "xeE3avk6ZQkY"
      },
      "source": [
        "# **Filtros con**  iloc - loc\n",
        "https://pandas.pydata.org/pandas-docs/stable/reference/api/pandas.DataFrame.iloc.html?highlight=iloc#pandas.DataFrame.iloc\n",
        "\n",
        "https://pandas.pydata.org/pandas-docs/stable/reference/api/pandas.DataFrame.loc.html\n",
        "\n"
      ]
    },
    {
      "cell_type": "markdown",
      "source": [
        "Con la instrucción iloc y el dataframe dfDatos\n",
        "\n",
        "*   Muestra los primeros 10 registros.\n",
        "*   Muestra los registros del 20 al 25.\n",
        "*   Muestra 10 registros con indices seleccionados aleatoreamente\n",
        "*   Muestra los registros del 100 al 120, pero solo las columnas 4, 5 y 6\n",
        "\n",
        "\n"
      ],
      "metadata": {
        "id": "NcTlPq4ArR0u"
      }
    },
    {
      "cell_type": "code",
      "execution_count": null,
      "metadata": {
        "id": "AkalZ4ViZQkZ"
      },
      "outputs": [],
      "source": [
        "# iloc\n",
        "\n",
        "\n",
        "\n"
      ]
    },
    {
      "cell_type": "markdown",
      "source": [
        "Con la instrucción loc:\n",
        "\n",
        "\n",
        "*   En una nuev df Asigna el ID de la orden como dato indice.\n",
        "*   Realiza la busqueda de la orden \"CA-2015-154599\"\n",
        "*   Obtnen los registros con Sales mayor a 5000. ¿cuantos son?\n",
        "\n",
        "\n"
      ],
      "metadata": {
        "id": "bTP8Bwp-txz4"
      }
    },
    {
      "cell_type": "code",
      "execution_count": null,
      "metadata": {
        "id": "YePgpwQSZQkZ"
      },
      "outputs": [],
      "source": [
        "# loc\n"
      ]
    },
    {
      "cell_type": "markdown",
      "metadata": {
        "id": "9isi8lNfZQkZ"
      },
      "source": [
        "## Estadisticas básicas con pandas\n",
        "https://datatofish.com/use-pandas-to-calculate-stats-from-an-imported-csv-file/\n",
        "\n",
        "df.describe()\n",
        "Mean, sum, Maximum, Minimum, Count, Median, Standard deviation, Variance.\n",
        "\n",
        "Obrten las estadisticas de los datos.\n",
        "\n",
        "\n",
        "_________\n",
        "\n",
        "\n"
      ]
    },
    {
      "cell_type": "code",
      "execution_count": null,
      "metadata": {
        "id": "8eOtjC75ZQka"
      },
      "outputs": [],
      "source": [
        "# Estadisticas basicas"
      ]
    },
    {
      "cell_type": "markdown",
      "metadata": {
        "id": "9JjTow5HZQka"
      },
      "source": [
        "**### Estadisticas con una condición**"
      ]
    },
    {
      "cell_type": "markdown",
      "source": [
        "Obten el promedio de utilidad de la región Central\n",
        "\n",
        "Ejemplo de salida:\n",
        "\n",
        "***Promedio de utilidad de ordenes de la región central : 23.45***"
      ],
      "metadata": {
        "id": "kHNXIBFox6Ru"
      }
    },
    {
      "cell_type": "code",
      "execution_count": null,
      "metadata": {
        "id": "m-hR8zB2ZQka"
      },
      "outputs": [],
      "source": [
        "# utiliza la intrucción loc para filtrar\n"
      ]
    },
    {
      "cell_type": "markdown",
      "source": [
        "Obten la suma de ventas de la categoría \"Technology\""
      ],
      "metadata": {
        "id": "fWD_a-WizApK"
      }
    },
    {
      "cell_type": "code",
      "source": [],
      "metadata": {
        "id": "FFzatAxMy_gV"
      },
      "execution_count": null,
      "outputs": []
    },
    {
      "cell_type": "markdown",
      "metadata": {
        "id": "46C8ugY1ZQka"
      },
      "source": [
        "# **Group By**\n",
        ">La instrucción **groupby** realiza agrupamientos por uno o más datos, de tal forma que podremos realizar cálculos de datos por esos mismos grupos.\n",
        "\n"
      ]
    },
    {
      "cell_type": "markdown",
      "source": [
        "**TOP TEN x Ventas**\n",
        "\n",
        "Obten las ventas (cantidad , ventas , descuento) por ciudad ordenado de manera descendente en cuanto a las ventas."
      ],
      "metadata": {
        "id": "BA-5GlYs2Riw"
      }
    },
    {
      "cell_type": "code",
      "execution_count": null,
      "metadata": {
        "id": "ewnHHB5KZQkb"
      },
      "outputs": [],
      "source": [
        "#Primer paso usar groupby y generar un df\n",
        "#Ordenar el daraframe de manera descendente y mostrar los primeros 10\n"
      ]
    },
    {
      "cell_type": "markdown",
      "source": [
        "**Generar otras dos vistas que sean de utilidad (con el groupby)**\n",
        "Analizar otras dos vistas que consideran puden ser utiles para conocer más sobre los datos."
      ],
      "metadata": {
        "id": "6xScUUtGJ-N_"
      }
    },
    {
      "cell_type": "code",
      "source": [],
      "metadata": {
        "id": "USzRO58OKzZM"
      },
      "execution_count": null,
      "outputs": []
    },
    {
      "cell_type": "markdown",
      "source": [
        "# **EXPORTACIÓN**\n",
        "\n",
        "Exportar los df a archivos de EXCEL."
      ],
      "metadata": {
        "id": "_KCeqjE6Kz1o"
      }
    },
    {
      "cell_type": "code",
      "execution_count": null,
      "metadata": {
        "id": "7gd5K7ZcZQkb"
      },
      "outputs": [],
      "source": [
        "# Exportar un df a un archivo de EXCEL.\n"
      ]
    },
    {
      "cell_type": "markdown",
      "source": [
        "\n",
        "\n",
        "---\n",
        "\n",
        "\n",
        "# **SEGUNDA PARTE**"
      ],
      "metadata": {
        "id": "PQp6NxyS10ZS"
      }
    },
    {
      "cell_type": "markdown",
      "metadata": {
        "id": "RkFjozazZQkb"
      },
      "source": [
        "## ¿y las Gráficas?\n",
        "\n",
        "Veamos la libreria **matplotlib**"
      ]
    },
    {
      "cell_type": "code",
      "execution_count": null,
      "metadata": {
        "id": "6VYURrWZZQkb"
      },
      "outputs": [],
      "source": [
        "import matplotlib.pyplot as plt  # solo importamos del módulo  pyplot\n"
      ]
    },
    {
      "cell_type": "code",
      "execution_count": null,
      "metadata": {
        "id": "j_FZ-T-9ZQkb"
      },
      "outputs": [],
      "source": [
        "\n"
      ]
    },
    {
      "cell_type": "code",
      "execution_count": null,
      "metadata": {
        "id": "tVP2Bq9IZQkc"
      },
      "outputs": [],
      "source": [
        "\n",
        "\n"
      ]
    },
    {
      "cell_type": "code",
      "execution_count": null,
      "metadata": {
        "id": "btWrqSQTZQkc"
      },
      "outputs": [],
      "source": []
    },
    {
      "cell_type": "markdown",
      "metadata": {
        "id": "fYh2P7LDZQkc"
      },
      "source": [
        "### NORMALIZAR\n",
        "Para poder comparar las ventas con los descuentos y ver si tienen una correlación debemos de ponerlos en una misma escala, para esto utilizremos la libreria **sklearn**"
      ]
    },
    {
      "cell_type": "code",
      "execution_count": null,
      "metadata": {
        "id": "7yFSXnNMZQkc"
      },
      "outputs": [],
      "source": [
        "\n",
        "from sklearn import preprocessing\n",
        "import seaborn as sns\n",
        "\n",
        "\n",
        "\n",
        "\n",
        "\n"
      ]
    }
  ],
  "metadata": {
    "kernelspec": {
      "display_name": "Python 3",
      "language": "python",
      "name": "python3"
    },
    "language_info": {
      "codemirror_mode": {
        "name": "ipython",
        "version": 3
      },
      "file_extension": ".py",
      "mimetype": "text/x-python",
      "name": "python",
      "nbconvert_exporter": "python",
      "pygments_lexer": "ipython3",
      "version": "3.8.8"
    },
    "colab": {
      "provenance": []
    }
  },
  "nbformat": 4,
  "nbformat_minor": 0
}